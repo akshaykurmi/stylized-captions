{
 "cells": [
  {
   "cell_type": "code",
   "execution_count": 4,
   "metadata": {},
   "outputs": [],
   "source": [
    "%run ./load_src_module.py"
   ]
  },
  {
   "cell_type": "code",
   "execution_count": 23,
   "metadata": {},
   "outputs": [],
   "source": [
    "import os\n",
    "\n",
    "from tqdm import tqdm\n",
    "import tensorflow as tf\n",
    "\n",
    "from src.datasets import PersonalityCaptions, DatasetManager\n",
    "from src.image_encoders import InceptionResNetEncoder\n",
    "from src.transformer import TransformerGenerator\n",
    "from src.utils import MultiCheckpointManager\n",
    "from src.evaluate import _run_beam_search"
   ]
  },
  {
   "cell_type": "code",
   "execution_count": 8,
   "metadata": {},
   "outputs": [],
   "source": [
    "pc = PersonalityCaptions(\"/Users/akshaykurmi/NEU/Image-Captioning/stylized-captions/data/personality_captions_data\")\n",
    "dm = DatasetManager(pc, 20)"
   ]
  },
  {
   "cell_type": "code",
   "execution_count": 24,
   "metadata": {},
   "outputs": [],
   "source": [
    "def list_test_captions(dataset_manager, checkpoint_number):\n",
    "    generator = TransformerGenerator(token_vocab_size=dataset_manager.tokenizer.vocab_size,\n",
    "                                     style_vocab_size=dataset_manager.style_encoder.num_classes,\n",
    "                                     model_dim=512, style_dim=64, pffn_dim=2048, z_dim=512,\n",
    "                                     encoder_blocks=2, decoder_blocks=6, num_attention_heads=8, max_pe=64,\n",
    "                                     dropout=0.1, stylize=True)\n",
    "    checkpoint_manager = MultiCheckpointManager(\"/Users/akshaykurmi/NEU/Image-Captioning/stylized-captions/results/run_1/checkpoints\", {\n",
    "        \"generator\": {\"generator\": generator}\n",
    "    })\n",
    "    checkpoint_manager.restore({\"generator\": checkpoint_number})\n",
    "\n",
    "    num_test_samples = 10000\n",
    "    batch_size = 32\n",
    "    test_dataset = dataset_manager.load_generator_dataset(\"test\", batch_size, 1)\n",
    "\n",
    "    predictions = {}\n",
    "    sample_id = 0\n",
    "    for batch in tqdm(test_dataset, desc=\"Batch\", unit=\"batch\", total=int(num_test_samples / batch_size) + 1):\n",
    "        encoder_output, caption, style, additional_captions = batch\n",
    "        sequences, sequences_logits = _run_beam_search(generator, encoder_output, style, 5, 20,\n",
    "                                                       dataset_manager.tokenizer.start_id,\n",
    "                                                       dataset_manager.tokenizer.end_id)\n",
    "        for s, c, acs in zip(sequences.numpy(), caption.numpy(), additional_captions.numpy()):\n",
    "            predictions[sample_id] = _seq_to_text(dataset_manager, s[0])\n",
    "            sample_id += 1\n",
    "\n",
    "    with open(\"preds.json\", \"w\") as f:\n",
    "        json.dump(predictions, f)"
   ]
  },
  {
   "cell_type": "code",
   "execution_count": null,
   "metadata": {},
   "outputs": [
    {
     "name": "stderr",
     "output_type": "stream",
     "text": [
      "Batch:   0%|          | 0/313 [00:00<?, ?batch/s]"
     ]
    }
   ],
   "source": [
    "list_test_captions(dm, 231)"
   ]
  },
  {
   "cell_type": "code",
   "execution_count": null,
   "metadata": {},
   "outputs": [],
   "source": []
  }
 ],
 "metadata": {
  "kernelspec": {
   "display_name": "Python 3",
   "language": "python",
   "name": "python3"
  },
  "language_info": {
   "codemirror_mode": {
    "name": "ipython",
    "version": 3
   },
   "file_extension": ".py",
   "mimetype": "text/x-python",
   "name": "python",
   "nbconvert_exporter": "python",
   "pygments_lexer": "ipython3",
   "version": "3.6.10"
  }
 },
 "nbformat": 4,
 "nbformat_minor": 4
}
