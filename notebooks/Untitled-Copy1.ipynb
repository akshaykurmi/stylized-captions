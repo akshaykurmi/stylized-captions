{
 "cells": [
  {
   "cell_type": "code",
   "execution_count": null,
   "metadata": {},
   "outputs": [],
   "source": [
    "%run ./load_src_module.py"
   ]
  },
  {
   "cell_type": "code",
   "execution_count": null,
   "metadata": {},
   "outputs": [],
   "source": [
    "import os\n",
    "import tensorflow as tf\n",
    "import numpy as np\n",
    "import tensorflow_probability as tfp\n",
    "from tqdm import tqdm\n",
    "\n",
    "import matplotlib.pyplot as plt\n",
    "from mpl_toolkits.axes_grid1 import ImageGrid"
   ]
  },
  {
   "cell_type": "code",
   "execution_count": null,
   "metadata": {},
   "outputs": [],
   "source": [
    "from src.datasets import PersonalityCaptions, DatasetManager\n",
    "from src.utils import MultiCheckpointManager\n",
    "from src.evaluate import _seq_to_text\n",
    "\n",
    "from src.image_encoders import InceptionResNetEncoder\n",
    "from src.transformer import TransformerGenerator"
   ]
  },
  {
   "cell_type": "code",
   "execution_count": null,
   "metadata": {},
   "outputs": [],
   "source": [
    "pc = PersonalityCaptions(\"/Users/akshaykurmi/NEU/Image-Captioning/stylized-captions/data/personality_captions_data\")"
   ]
  },
  {
   "cell_type": "code",
   "execution_count": null,
   "metadata": {},
   "outputs": [],
   "source": [
    "dm = DatasetManager(pc, 20)"
   ]
  },
  {
   "cell_type": "code",
   "execution_count": null,
   "metadata": {},
   "outputs": [],
   "source": [
    "encoder = InceptionResNetEncoder()\n",
    "generator = TransformerGenerator(token_vocab_size=dm.tokenizer.vocab_size,\n",
    "                                 style_vocab_size=dm.style_encoder.num_classes,\n",
    "                                 model_dim=512, style_dim=64, pffn_dim=2048, z_dim=512,\n",
    "                                 encoder_blocks=2, decoder_blocks=6, num_attention_heads=8, max_pe=64,\n",
    "                                 dropout=0.1, stylize=True)\n",
    "checkpoint_manager = MultiCheckpointManager(\"/Users/akshaykurmi/NEU/Image-Captioning/stylized-captions/results/run_1/checkpoints\", {\n",
    "    \"generator\": {\"generator\": generator}\n",
    "})\n",
    "checkpoint_manager.restore({\"generator\": 231})"
   ]
  },
  {
   "cell_type": "code",
   "execution_count": null,
   "metadata": {},
   "outputs": [],
   "source": [
    "dm.style_encoder.num_classes"
   ]
  },
  {
   "cell_type": "code",
   "execution_count": null,
   "metadata": {},
   "outputs": [],
   "source": [
    "ds = pc.load(\"test\")"
   ]
  },
  {
   "cell_type": "code",
   "execution_count": null,
   "metadata": {},
   "outputs": [],
   "source": [
    "# fig=plt.figure(figsize=(27,27))\n",
    "# columns, rows = 10, 10\n",
    "# for i in range(columns * rows):\n",
    "#     img = dm.load_image(ds[i+1500][\"image_path\"]).numpy().astype(np.int32)\n",
    "#     fig.add_subplot(rows, columns, i + 1)\n",
    "#     plt.imshow(img)\n",
    "#     plt.xticks([])\n",
    "#     plt.yticks([])\n",
    "# plt.show()"
   ]
  },
  {
   "cell_type": "code",
   "execution_count": null,
   "metadata": {},
   "outputs": [],
   "source": [
    "i = 9444\n",
    "image_path = ds[i][\"image_path\"]\n",
    "image = dm.load_image(image_path)\n",
    "plt.figure(figsize=(5,5))\n",
    "plt.imshow(image.numpy().astype(np.int32))\n",
    "plt.xticks([])\n",
    "plt.yticks([])\n",
    "plt.show()"
   ]
  },
  {
   "cell_type": "code",
   "execution_count": null,
   "metadata": {},
   "outputs": [],
   "source": [
    "ds[i]"
   ]
  },
  {
   "cell_type": "code",
   "execution_count": null,
   "metadata": {},
   "outputs": [],
   "source": [
    "encoder_output = encoder(tf.expand_dims(image, axis=0))\n",
    "for s in range(dm.style_encoder.num_classes):\n",
    "    style_label = dm.style_encoder.index_to_label[s]\n",
    "    print(f\"\\033[1m===== {s} : {style_label} =====\\033[0m\")\n",
    "    style = tf.constant(s, dtype=tf.int32, shape=(1,))\n",
    "    sequences, sequences_logits = generator.beam_search(encoder_output, style, sequence_length=20,\n",
    "                                                        beam_size=5, sos=dm.tokenizer.start_id,\n",
    "                                                        eos=dm.tokenizer.end_id)\n",
    "    for seq, logit in zip(sequences.numpy()[0], sequences_logits.numpy()[0]):\n",
    "        print(f\"{logit:0.5f} | {_seq_to_text(dm, seq)}\")\n",
    "\n",
    "    initial_sequence = tf.ones((1, 1), dtype=tf.int64) * dm.tokenizer.start_id\n",
    "    sequences = generator.sample(encoder_output, initial_sequence, style,\n",
    "                                 sequence_length=20, mode=\"stochastic\", n_samples=3,\n",
    "                                 training=False, sos=dm.tokenizer.start_id,\n",
    "                                 eos=dm.tokenizer.end_id)[0]\n",
    "    for seq in sequences:\n",
    "        print(f\"{_seq_to_text(dm, seq.numpy()[0])}\")\n",
    "    print()"
   ]
  },
  {
   "cell_type": "code",
   "execution_count": null,
   "metadata": {},
   "outputs": [],
   "source": []
  }
 ],
 "metadata": {
  "kernelspec": {
   "display_name": "Python 3",
   "language": "python",
   "name": "python3"
  },
  "language_info": {
   "codemirror_mode": {
    "name": "ipython",
    "version": 3
   },
   "file_extension": ".py",
   "mimetype": "text/x-python",
   "name": "python",
   "nbconvert_exporter": "python",
   "pygments_lexer": "ipython3",
   "version": "3.6.10"
  }
 },
 "nbformat": 4,
 "nbformat_minor": 4
}
